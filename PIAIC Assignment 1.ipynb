{
 "cells": [
  {
   "cell_type": "markdown",
   "metadata": {},
   "source": [
    "NAME:Syed Arsal Ahmed                          roll number:AIC041891"
   ]
  },
  {
   "cell_type": "code",
   "execution_count": 18,
   "metadata": {
    "scrolled": false
   },
   "outputs": [
    {
     "name": "stdout",
     "output_type": "stream",
     "text": [
      "Enter the radius of cirlce.5\n",
      "The area of the circle is 0.7857142857142857\n"
     ]
    }
   ],
   "source": [
    "# area of cirle:\n",
    "\n",
    "\n",
    "radius=float(input(\"Enter the radius of cirlce\"))\n",
    "Area=(22/7)*radius**2\n",
    "print(\"The area of the circle is\",Area)"
   ]
  },
  {
   "cell_type": "code",
   "execution_count": 14,
   "metadata": {},
   "outputs": [
    {
     "name": "stdout",
     "output_type": "stream",
     "text": [
      "Input a number-1\n",
      "Negative number entered\n"
     ]
    }
   ],
   "source": [
    "#Check Number either positive, negative or zero \n",
    "\n",
    "num=int(input(\"Input a number\"))\n",
    "if num>0:\n",
    "    print(\"Positive number entered\")\n",
    "elif num<0:\n",
    "    print(\"Negative number entered\")\n",
    "elif num==0:\n",
    "    print(\"Zero entered\")"
   ]
  },
  {
   "cell_type": "code",
   "execution_count": 16,
   "metadata": {},
   "outputs": [
    {
     "name": "stdout",
     "output_type": "stream",
     "text": [
      "Enter the first number7\n",
      "Enter the second number4\n",
      "7 is not completely divisible by 4\n"
     ]
    }
   ],
   "source": [
    "#Divisibility Check of two numbers \n",
    "num1=int(input(\"Enter the first number\"))\n",
    "num2=int(input(\"Enter the second number\"))\n",
    "if num1%num2==0:\n",
    "    print(num1,\"is completely divisible by\",num2)\n",
    "elif num1%num2!=0:\n",
    "    print(num1,\"is not completely divisible by\",num2)\n"
   ]
  },
  {
   "cell_type": "code",
   "execution_count": 19,
   "metadata": {},
   "outputs": [
    {
     "name": "stdout",
     "output_type": "stream",
     "text": [
      "Enter the radius of sphere3.525\n",
      "Volume of the Sphere with radius 3.525 is 183.37737375\n"
     ]
    }
   ],
   "source": [
    "#Calculate Volume of a sphere\n",
    "\n",
    "radius=float(input(\"Enter the radius of sphere\"))\n",
    "Volume=(4/3)*3.14*radius**3\n",
    "print(\"Volume of the Sphere with radius\",radius,\"is\",Volume)\n"
   ]
  },
  {
   "cell_type": "code",
   "execution_count": 24,
   "metadata": {
    "scrolled": true
   },
   "outputs": [
    {
     "name": "stdout",
     "output_type": "stream",
     "text": [
      "Enter stringhi\n",
      "How many copies of String you need?7\n",
      "7 copies of hi are:\n",
      "hi\n",
      "hi\n",
      "hi\n",
      "hi\n",
      "hi\n",
      "hi\n",
      "hi\n"
     ]
    }
   ],
   "source": [
    "#copy string n times\n",
    "String=input(\"Enter string\")\n",
    "copy=int(input(\"How many copies of String you need?\"))\n",
    "print(copy,\"copies of\",String,\"are:\")\n",
    "x=1\n",
    "while x<=copy:\n",
    "    print(String)\n",
    "    x+=1\n"
   ]
  },
  {
   "cell_type": "code",
   "execution_count": 26,
   "metadata": {},
   "outputs": [
    {
     "name": "stdout",
     "output_type": "stream",
     "text": [
      "Enter a number5643\n",
      "The number is odd\n"
     ]
    }
   ],
   "source": [
    "#Check if number is Even or Odd\n",
    "\n",
    "number=int(input(\"Enter a number\"))\n",
    "if number%2==0:\n",
    "    print(\"The number is even\")\n",
    "elif number%2!=0:\n",
    "    print(\"The number is odd\")"
   ]
  },
  {
   "cell_type": "code",
   "execution_count": 30,
   "metadata": {},
   "outputs": [
    {
     "name": "stdout",
     "output_type": "stream",
     "text": [
      "Enter a characterI\n",
      "letter I is a vowel\n"
     ]
    }
   ],
   "source": [
    "#Vowel Tester \n",
    "letter=input(\"Enter a character\")\n",
    "letter_2=letter.upper()\n",
    "if letter_2==\"A\" or letter_2==\"E\" or letter_2==\"I\" or letter_2==\"O\" or letter_2==\"U\":\n",
    "    print(\"letter\",letter,\"is a vowel\")\n",
    "else:\n",
    "    print(\"letter\",letter,\"is not a vowel\")"
   ]
  },
  {
   "cell_type": "code",
   "execution_count": null,
   "metadata": {},
   "outputs": [],
   "source": [
    "# triangle area\n",
    "base=float(input(\"Enter the magnitude of triangle base\"))\n",
    "height=float(input(\"Enter the magnitude of triangle height\"))\n",
    "area=(1/2)*base*height\n",
    "print(\"The area of triangle is\",area)\n"
   ]
  },
  {
   "cell_type": "code",
   "execution_count": 1,
   "metadata": {},
   "outputs": [
    {
     "name": "stdout",
     "output_type": "stream",
     "text": [
      "Please enter principle amount10000\n",
      "Please enter rate of interest in %.1\n",
      "Enter no. of years for investment5\n",
      "16105.100000000006\n"
     ]
    }
   ],
   "source": [
    "#Calculate Interest\n",
    "principle=float(input(\"Please enter principle amount\"))\n",
    "rate=float(input(\"Please enter rate of interest in %\"))\n",
    "years=float(input(\"Enter no. of years for investment\"))\n",
    "amount=principle*(1+rate)**years\n",
    "print(amount)"
   ]
  },
  {
   "cell_type": "code",
   "execution_count": 3,
   "metadata": {},
   "outputs": [
    {
     "name": "stdout",
     "output_type": "stream",
     "text": [
      "Enter Co-ordinate for x12\n",
      "Enter Co-ordinate for y14\n",
      "Enter Co-ordinate for x24\n",
      "Enter Co-ordinate for y24\n",
      "Distance between points is 2.0\n"
     ]
    }
   ],
   "source": [
    "#Euclidean distance\n",
    "\n",
    "x1=float(input(\"Enter Co-ordinate for x1\"))\n",
    "y1=float(input(\"Enter Co-ordinate for y1\"))\n",
    "x2=float(input(\"Enter Co-ordinate for x2\"))\n",
    "y2=float(input(\"Enter Co-ordinate for y2\"))\n",
    "distance=((x2-x1)**2-(y2-y1)**2)**.5\n",
    "print(\"Distance between points is\",distance)"
   ]
  },
  {
   "cell_type": "code",
   "execution_count": 4,
   "metadata": {},
   "outputs": [
    {
     "name": "stdout",
     "output_type": "stream",
     "text": [
      "Enter height in feet5\n",
      "height is centimeter is 152.4\n"
     ]
    }
   ],
   "source": [
    "#feet to centimeter converter\n",
    "value=float(input(\"Enter height in feet\"))\n",
    "cm=height*30.48\n",
    "print(\"value in centimeter is\",cm)"
   ]
  },
  {
   "cell_type": "code",
   "execution_count": 6,
   "metadata": {},
   "outputs": [
    {
     "name": "stdout",
     "output_type": "stream",
     "text": [
      "Enter height in cm180\n",
      "Enter weight in kg75\n",
      "Your BMI is 23.148148148148145\n"
     ]
    }
   ],
   "source": [
    "#BMI Calculator\n",
    "height=float(input(\"Enter height in cm\"))\n",
    "weight=float(input(\"Enter weight in kg\"))\n",
    "BMI=(weight/height**2)*10000\n",
    "print(\"Your BMI is\",BMI)"
   ]
  },
  {
   "cell_type": "code",
   "execution_count": 8,
   "metadata": {},
   "outputs": [
    {
     "name": "stdout",
     "output_type": "stream",
     "text": [
      "Enter value of n5\n",
      "Sum of n Positive integers till 5.0 is 15.0\n"
     ]
    }
   ],
   "source": [
    "#Sum of n Positive Integers \n",
    "n=float(input(\"Enter value of n\"))\n",
    "sum=0\n",
    "n2=n\n",
    "while n2>=1:\n",
    "    sum=sum+n2\n",
    "    n2-=1\n",
    "print(\"Sum of n Positive integers till\",n,\"is\",sum)    \n",
    "    "
   ]
  },
  {
   "cell_type": "code",
   "execution_count": 10,
   "metadata": {},
   "outputs": [
    {
     "name": "stdout",
     "output_type": "stream",
     "text": [
      "Enter a number12354563\n",
      "the sum of the digits of the number  12354563 is 29.0\n"
     ]
    }
   ],
   "source": [
    "#Digits Sum of a Number\n",
    "number=int(input(\"Enter a number\"))\n",
    "sum=0\n",
    "num2=number\n",
    "while num2>0:\n",
    "    sum+=num2%10\n",
    "    num2=(num2-(num2%10))/10\n",
    "print(\"the sum of the digits of the number \",number,\"is\",sum)"
   ]
  },
  {
   "cell_type": "code",
   "execution_count": 9,
   "metadata": {},
   "outputs": [
    {
     "name": "stdout",
     "output_type": "stream",
     "text": [
      "Enter a decimal number32\n",
      "Binary Representation of 32 is\n",
      "100000"
     ]
    }
   ],
   "source": [
    "#Decimal to Binary Converter \n",
    "\n",
    "number=int(input(\"Enter a decimal number\"))\n",
    "num2=number\n",
    "binary=[]\n",
    "while num2>0:\n",
    "    binary.insert(0,int(num2%2))\n",
    "    num2=(num2-num2%2)/2\n",
    "print(\"Binary Representation of\",number,\"is\")\n",
    "for x in binary:\n",
    "    print(x,end=\"\")\n"
   ]
  },
  {
   "cell_type": "code",
   "execution_count": 7,
   "metadata": {},
   "outputs": [
    {
     "name": "stdout",
     "output_type": "stream",
     "text": [
      "Enter a binary number1001\n",
      "Decimal representation of 1001 is 9\n"
     ]
    }
   ],
   "source": [
    "#Binary to Decimal Converter\n",
    "\n",
    "binary=int(input(\"Enter a binary number\"))\n",
    "decimal=0\n",
    "binary2=binary\n",
    "n=0\n",
    "while binary2>0:\n",
    "    decimal=decimal+binary2%2*(2**n)\n",
    "    binary2=(binary2-binary2%2)/10\n",
    "    n+=1\n",
    "print(\"Decimal representation of\",binary,\"is\",int(decimal))    \n",
    "    "
   ]
  },
  {
   "cell_type": "code",
   "execution_count": 16,
   "metadata": {},
   "outputs": [
    {
     "name": "stdout",
     "output_type": "stream",
     "text": [
      "Enter textQuickbrownfoxjumpsoverthedog\n",
      "Vowels: 9\n",
      "Consonants: 19\n"
     ]
    }
   ],
   "source": [
    "#Vowel and Consonants Counter\n",
    "text=input(\"Enter text\")\n",
    "text=text.upper()\n",
    "vowels=0\n",
    "consonents=0\n",
    "for x in text:\n",
    "    if x==\"A\" or x==\"E\" or x==\"I\" or x==\"O\" or x==\"U\":\n",
    "        vowels+=1\n",
    "    else:\n",
    "        consonents+=1\n",
    "\n",
    "print(\"Vowels:\",vowels)\n",
    "print(\"Consonants:\",consonents)\n"
   ]
  },
  {
   "cell_type": "markdown",
   "metadata": {},
   "source": [
    "\n"
   ]
  }
 ],
 "metadata": {
  "kernelspec": {
   "display_name": "Python 3",
   "language": "python",
   "name": "python3"
  },
  "language_info": {
   "codemirror_mode": {
    "name": "ipython",
    "version": 3
   },
   "file_extension": ".py",
   "mimetype": "text/x-python",
   "name": "python",
   "nbconvert_exporter": "python",
   "pygments_lexer": "ipython3",
   "version": "3.7.3"
  }
 },
 "nbformat": 4,
 "nbformat_minor": 2
}
